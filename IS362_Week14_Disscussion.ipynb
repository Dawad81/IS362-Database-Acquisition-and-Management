{
 "cells": [
  {
   "cell_type": "markdown",
   "metadata": {},
   "source": [
    "### IS362-DB-Week-14\n",
    "### -Dennis Awad\n",
    "\n",
    "# Netflix Recommender system\n",
    "\n",
    "\n",
    "![Netflix Logo](https://assets.brand.microsites.netflix.io/assets/493f5bba-81a4-11e9-bf79-066b49664af6_cm_1440w.png?v=3)\n",
    "\n",
    "For my recommender system I decided to use Netflix as system to do an analysis on. We are all familiar with Netflix at this point, as an entertainment on-demand, streaming subscription service. This service also is heavily based on a recommender system that it uses to provide you (the subscriber) with a huge list of shows, movies, documentaries, etc. That is custom curated to your preferences. But how does it accomplish this custom curation?\n",
    "\n",
    "\n",
    "## Scenario Design Analysis:\n",
    "\n",
    "#### 1. Who are your target users?\n",
    "    People looking for on demand entertainment. Subscribers range all ages, and entertainment interest. There is no specific user base it is a plat form for all.\n",
    "\n",
    "\n",
    "#### 2. What are their key goals?\n",
    "\n",
    "    Enjoy unlimited, on demand content, they like and choose, on their own schedule (any time of the day), commercial free. \n",
    "\n",
    "\n",
    "#### 3. How can you accomplish those goals?\n",
    "\n",
    "    Netflix Contains a massive library of Videos (Movies, TV Shows, Documentaries) from all over the world. It is seemingly endless. However, for a subscriber to search all of Netflix’s offerings would become tedious for the subscriber and could cause them to lose interest and quit the service. So, Netflix implements a recommender system that takes into account that particular users platform data in order to come up with recommendations on the scribers landing page to quickly provide them with the best posable choices based on many factors uniquely custom to that subscriber\n",
    "\n",
    "\n",
    "#### Should the selected recommender system perform scenario design twice?\n",
    "\n",
    "I believe the Netflix recommender system should perform the scenario desine periodically taking into account all the new views the subscriber has watched since the last scenario design. \n",
    "\n",
    "#### Reverse Engineer: \n",
    "How Netflix accomplishes this is in the beginning, when the user is new, it asks them to select 3 movies/ shows from a list. This helps Netflix begin its recommendations on items to watch. This is only the beginning, from here the platform records the choices made, length of time the videos are watched, how many times they are watched, and even cross references those choices with that of other Netflix users watch history in order to recommend more videos from its Netflix library. The more the subscribers watch Netflix, the more detailed and correct the recommendations get. It will recommend movies based on a particular move the subscriber had watched, or what others who also watched that movie watched next. It takes a cumulative watch history of the subscriber to decipher their entertainment interest, likes and dislikes in order to rank its recommendations and present them to the user in that order on their home screen.\n",
    "![Netflix User Homescreen](https://s3.amazonaws.com/re-work-production/post_images/524/netflixf/original.png?1519061395)\n",
    "\n",
    "#### Specific Recommendations:\n",
    "Netflix Recommender system is a pretty robust one, and very spot on in my case. I do notice however, if I do watch something that a friend recommended, not per my usual viewing habits, the system dose begin to recommend more like this. This can be annoying, especially if I ended up hating the Movie/doc/show. I wish there was a way within the app to remove it from your watch history. Netflix dose provide this on its website, by going to your user account and seeing the list of previously watched movies. That is when you get a real sense of how much data is being implemented into its recommender system. Here you will see the video, what time it was watched, where geographically it was watched, what type of device it was watched on, duration etc. I guess they keep this hidden as to not scare the viewing public as to how much data it is keeping on them. However, we know from our studies in information systems, this data is why these systems become so popular and precise. These systems take into consideration all of these factors in order to recommend the right video at the right time Without them we would be lost in a sea of options, and a library of videos, we would never be able to sort through or find what we like.\n",
    "\n",
    "\n"
   ]
  },
  {
   "cell_type": "code",
   "execution_count": null,
   "metadata": {},
   "outputs": [],
   "source": []
  }
 ],
 "metadata": {
  "kernelspec": {
   "display_name": "Python 2",
   "language": "python",
   "name": "python2"
  },
  "language_info": {
   "codemirror_mode": {
    "name": "ipython",
    "version": 2
   },
   "file_extension": ".py",
   "mimetype": "text/x-python",
   "name": "python",
   "nbconvert_exporter": "python",
   "pygments_lexer": "ipython2",
   "version": "2.7.15"
  }
 },
 "nbformat": 4,
 "nbformat_minor": 2
}
