{
 "cells": [
  {
   "cell_type": "markdown",
   "metadata": {},
   "source": [
    "# Assignment 3\n",
    "Suppose you have ridden a bicycle from New York City to Key West, Florida.  Your bicycle odometer shows the total miles, which you have dutifully logged at the end of each day with paper and pencil.  Your first two entries might be 55 and 120, indicating that you rode your bike 55 miles on day 1 and 65 miles on day 2.  Your task is to create a pandas Series object that holds the cumulative miles at the end of each day, then use your Python skills to show the total miles that you rode each day.  Consider how you should best present this information in a Jupyter notebook.  You should save your Jupyter Notebook to your GitHub repository, and provide a link in your assignment submission.\n",
    "\n",
    "![google maps Image](https://www.google.com/maps/vt/data=wqk-Jj9fstwxWRiH-9-j37EKdWlk6b3kTlqhx8JWBSPdeTops6otc2-jGyXiY-83EY4trAHqgT-_NBjQ8fE044iy5eTQYa5U7N59dk5uxZSCdgS1TojnOQFl05OJuUVuye61XDouBYLpXnw1SiXXuVsA3LV2u7NXRzPpzop_tvMQOOOFf9V8JPFk-MgS,41zHvj-r42kgWS5j5gPVmnZ9eQC-_mEIHSPXU7rU9_881DlM7iWr9vbvY59CUJzJao0x_-bWBIOlJPHOBC4boWn8QOgg5wEgNm9gXBdWx9cUW6flEusap1lKilfGP6W7RPNr0-3tgqvD3GfCCmmxzkXdkpNSJ0fQEkp6gspjJN_8eLQnwc4NnmATn0juufT4jSQpMMmpydHlB9UHHtEOreBdHTIY9c9NFBeMlMrmRyRywJgfdIOXmFliuILs6GWZappAA_-xzWHLr75IHlbfFmL4snMOVvIlPSLPfaRmHuUuffdI_3qavU9uL1qNtG4A0m6oJJLcTfjGHLq_MauRIrTWjt5O8oVfPpUmwDalH8m_R0FqiQ?scale=1&h=200&w=630)\n",
    "According to google maps the distance of the journey is 1443 miles"
   ]
  },
  {
   "cell_type": "markdown",
   "metadata": {},
   "source": [
    "First we will create a list of our miles perday log"
   ]
  },
  {
   "cell_type": "code",
   "execution_count": 4,
   "metadata": {},
   "outputs": [],
   "source": [
    "miles_perday_log = [55, 120, 200, 250, 320, 395, 450, 530,\n",
    "                    650, 800, 950, 1030, 1220, 1340, 1443]"
   ]
  },
  {
   "cell_type": "code",
   "execution_count": 12,
   "metadata": {
    "scrolled": true
   },
   "outputs": [
    {
     "name": "stdout",
     "output_type": "stream",
     "text": [
      "0       55\n",
      "1      120\n",
      "2      200\n",
      "3      250\n",
      "4      320\n",
      "5      395\n",
      "6      450\n",
      "7      530\n",
      "8      650\n",
      "9      800\n",
      "10     950\n",
      "11    1030\n",
      "12    1220\n",
      "13    1340\n",
      "14    1443\n",
      "dtype: int64\n"
     ]
    }
   ],
   "source": [
    "import pandas as pd\n",
    "import numpy as np\n",
    "\n",
    "miles_per_day_array = np.array(miles_perday_log)\n",
    "\n",
    "miles_per_day_series = pd.Series(miles_per_day_array)\n",
    "print(miles_per_day_series)\n",
    "\n"
   ]
  },
  {
   "cell_type": "markdown",
   "metadata": {},
   "source": [
    "Now that we have our log in the form of a series we will create a python function to figure out howmany miles we did per day\n",
    " we will accomplish this by subtracting the previouses days' milage from the selected day."
   ]
  },
  {
   "cell_type": "code",
   "execution_count": 164,
   "metadata": {},
   "outputs": [],
   "source": [
    "def daily_mileage(log, day):\n",
    "    if day == 0:\n",
    "        return'On day {}, I rode {} miles'.format(day+1,log[0])\n",
    "    else:\n",
    "        try:\n",
    "            return'On day {}, I rode {} miles'.format(day+1, log[day] - log[day - 1])\n",
    "        except:\n",
    "            print ('Day not in the list, plese enter valid day number to retrieve milage')"
   ]
  },
  {
   "cell_type": "code",
   "execution_count": 165,
   "metadata": {},
   "outputs": [
    {
     "data": {
      "text/plain": [
       "'On day 5, I rode 70 miles'"
      ]
     },
     "execution_count": 165,
     "metadata": {},
     "output_type": "execute_result"
    }
   ],
   "source": [
    "daily_mileage(miles_per_day_series, 4)"
   ]
  },
  {
   "cell_type": "code",
   "execution_count": 166,
   "metadata": {},
   "outputs": [
    {
     "data": {
      "text/plain": [
       "'On day 1, I rode 55 miles'"
      ]
     },
     "execution_count": 166,
     "metadata": {},
     "output_type": "execute_result"
    }
   ],
   "source": [
    "daily_mileage(miles_per_day_series, 0)"
   ]
  },
  {
   "cell_type": "code",
   "execution_count": 167,
   "metadata": {},
   "outputs": [
    {
     "name": "stdout",
     "output_type": "stream",
     "text": [
      "Day not in the list, plese enter valid day number to retrieve milage\n"
     ]
    }
   ],
   "source": [
    "daily_mileage(miles_per_day_series, 50)"
   ]
  },
  {
   "cell_type": "markdown",
   "metadata": {},
   "source": [
    "if we wanted to iterate through the entire series of data we could do below:"
   ]
  },
  {
   "cell_type": "code",
   "execution_count": 168,
   "metadata": {},
   "outputs": [],
   "source": [
    "\n",
    "def milesperday(log):\n",
    "    day = 0\n",
    "    index = day\n",
    "    miles = log.iloc[day]\n",
    "    \n",
    "    for item in log[:]:\n",
    "        if day == 0:\n",
    "            print 'On day {}, I rode {} miles'.format(day+1, miles)\n",
    "        else:\n",
    "            try:\n",
    "                print 'On day {}, I rode {} miles'.format(day+1, log[day] - log[day - 1])\n",
    "            except:\n",
    "                print ('Day not in the list, plese enter valid day number')\n",
    "        day = day + 1\n",
    "\n",
    "    \n",
    "\n",
    "    "
   ]
  },
  {
   "cell_type": "code",
   "execution_count": 169,
   "metadata": {},
   "outputs": [
    {
     "name": "stdout",
     "output_type": "stream",
     "text": [
      "On day 1, I rode 55 miles\n",
      "On day 2, I rode 65 miles\n",
      "On day 3, I rode 80 miles\n",
      "On day 4, I rode 50 miles\n",
      "On day 5, I rode 70 miles\n",
      "On day 6, I rode 75 miles\n",
      "On day 7, I rode 55 miles\n",
      "On day 8, I rode 80 miles\n",
      "On day 9, I rode 120 miles\n",
      "On day 10, I rode 150 miles\n",
      "On day 11, I rode 150 miles\n",
      "On day 12, I rode 80 miles\n",
      "On day 13, I rode 190 miles\n",
      "On day 14, I rode 120 miles\n",
      "On day 15, I rode 103 miles\n"
     ]
    }
   ],
   "source": [
    "milesperday(miles_per_day_series)"
   ]
  },
  {
   "cell_type": "code",
   "execution_count": null,
   "metadata": {},
   "outputs": [],
   "source": []
  }
 ],
 "metadata": {
  "kernelspec": {
   "display_name": "Python 2",
   "language": "python",
   "name": "python2"
  },
  "language_info": {
   "codemirror_mode": {
    "name": "ipython",
    "version": 2
   },
   "file_extension": ".py",
   "mimetype": "text/x-python",
   "name": "python",
   "nbconvert_exporter": "python",
   "pygments_lexer": "ipython2",
   "version": "2.7.15"
  }
 },
 "nbformat": 4,
 "nbformat_minor": 2
}
