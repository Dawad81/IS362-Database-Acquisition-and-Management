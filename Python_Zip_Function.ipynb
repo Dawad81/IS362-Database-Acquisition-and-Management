{
 "cells": [
  {
   "attachments": {},
   "cell_type": "markdown",
   "metadata": {},
   "source": [
    "![Python Logo](https://i.morioh.com/bd541389f5.png)\n",
    "\n",
    "# A breif exsplination of the `zip()` function in Python\n"
   ]
  },
  {
   "cell_type": "markdown",
   "metadata": {},
   "source": [
    "***\n",
    "Below we have 4 diffrent list we have created (**`list1, list2, list3, list4`**):"
   ]
  },
  {
   "cell_type": "code",
   "execution_count": 134,
   "metadata": {},
   "outputs": [],
   "source": [
    "list1 = ['a', 'b', 'c', 'd', 'e']\n",
    "list2 = [1, 2, 3, 4, 5]\n",
    "list3 = ['apple', 'banana', 'carrots', 'dragon fruit', 'elderberry']\n",
    "list4 = [6, 7, 8, 9, 10]\n"
   ]
  },
  {
   "cell_type": "markdown",
   "metadata": {},
   "source": [
    "***\n",
    "We can see what those list look like below when passed to a **`print()`** function:"
   ]
  },
  {
   "cell_type": "code",
   "execution_count": 135,
   "metadata": {
    "scrolled": true
   },
   "outputs": [
    {
     "name": "stdout",
     "output_type": "stream",
     "text": [
      "['a', 'b', 'c', 'd', 'e']\n",
      "[1, 2, 3, 4, 5]\n",
      "['apple', 'banana', 'carrots', 'dragon fruit', 'elderberry']\n",
      "[6, 7, 8, 9, 10]\n"
     ]
    }
   ],
   "source": [
    "print (list1)\n",
    "print (list2)\n",
    "print (list3)\n",
    "print (list4)"
   ]
  },
  {
   "cell_type": "markdown",
   "metadata": {},
   "source": [
    "***\n",
    "The **`zip()`** function returns a zip object.\n"
   ]
  },
  {
   "cell_type": "code",
   "execution_count": 71,
   "metadata": {
    "scrolled": false
   },
   "outputs": [
    {
     "name": "stdout",
     "output_type": "stream",
     "text": [
      "<zip object at 0x1117831e0>\n"
     ]
    }
   ],
   "source": [
    "combine_3_list = zip(list1, list2, list3, list4)\n",
    "print (combine_3_list)"
   ]
  },
  {
   "cell_type": "markdown",
   "metadata": {},
   "source": [
    ">This  ***zip object*** is an iterator of tuples where the first item in each passed iterator is paired together, and then the second item in each passed iterator are paired together etc.\n",
    ">\n",
    ">-[W3schools.com](https://www.w3schools.com/python/ref_func_zip.asp) \n",
    "\n",
    "***\n"
   ]
  },
  {
   "cell_type": "markdown",
   "metadata": {},
   "source": [
    "When we pass the **`zip()`** function, into a **`list()`** function, and then **`print()`** it, we can then see the visual representation of the newly formed zipped list (`combine_3_list`):"
   ]
  },
  {
   "cell_type": "code",
   "execution_count": 72,
   "metadata": {},
   "outputs": [
    {
     "name": "stdout",
     "output_type": "stream",
     "text": [
      "[('a', 1, 'apple', 6), ('b', 2, 'banana', 7), ('c', 3, 'carrots', 8), ('d', 4, 'dragon fruit', 9), ('e', 5, 'elderberry', 10)]\n"
     ]
    }
   ],
   "source": [
    "combine_3_list = list(zip(list1, list2, list3, list4))\n",
    "print (combine_3_list)"
   ]
  },
  {
   "cell_type": "markdown",
   "metadata": {},
   "source": [
    "***\n",
    "If the lists are different lengths, **`zip()`** stops as soon as the first list ends:"
   ]
  },
  {
   "cell_type": "code",
   "execution_count": 133,
   "metadata": {},
   "outputs": [
    {
     "name": "stdout",
     "output_type": "stream",
     "text": [
      "list2 =  [1, 2, 3, 4, 5]\n",
      "shorter_list =  ['this list', 'is shorter', 'than', 'five items']\n",
      "--------------------------------------------------------------------------------\n",
      "\n",
      "zipped together these list combined return only a 4 item list of tuples.\n",
      "leaving out the nuber 5 from list2\n",
      "\n",
      "--------------------------------------------------------------------------------\n",
      "zip_diffrent_length_list =  [(1, 'this list'), (2, 'is shorter'), (3, 'than'), (4, 'five items')]\n"
     ]
    }
   ],
   "source": [
    "shorter_list = ['this list', 'is shorter', 'than', 'five items']\n",
    "zip_diffrent_length_list = list(zip(list2, shorter_list))\n",
    "print('list2 = ',list2)\n",
    "print('shorter_list = ', shorter_list)\n",
    "print ('-' *80)\n",
    "print ('')\n",
    "print ('zipped together these list combined return only a 4 item list of tuples.')\n",
    "print ('leaving out the nuber 5 from list2')\n",
    "print ('')\n",
    "print ('-' *80)\n",
    "print ('zip_diffrent_length_list = ', zip_diffrent_length_list)"
   ]
  },
  {
   "cell_type": "markdown",
   "metadata": {},
   "source": [
    "as you can see above there is no **`5`** item in **`zip_diffrent_length_list`**\n",
    "***"
   ]
  },
  {
   "cell_type": "markdown",
   "metadata": {},
   "source": [
    "Additionally, you can **`zip()`** list into dictionaries by usint the **`zip()`** funtion inside of a **`dict()`** function:"
   ]
  },
  {
   "cell_type": "code",
   "execution_count": 74,
   "metadata": {},
   "outputs": [
    {
     "name": "stdout",
     "output_type": "stream",
     "text": [
      "{'a': 'apple', 'b': 'banana', 'c': 'carrots', 'd': 'dragon fruit', 'e': 'elderberry'}\n",
      "{1: 6, 2: 7, 3: 8, 4: 9, 5: 10}\n"
     ]
    }
   ],
   "source": [
    "dict_2_zipped_str_list = dict(zip(list1, list3))\n",
    "print(dict_2_zipped_list)\n",
    "\n",
    "dict_2_zipped_int_list = dict(zip(list2, list4))\n",
    "print(dict_2_zipped_int_list)\n"
   ]
  },
  {
   "cell_type": "markdown",
   "metadata": {},
   "source": []
  },
  {
   "cell_type": "code",
   "execution_count": 64,
   "metadata": {},
   "outputs": [
    {
     "name": "stdout",
     "output_type": "stream",
     "text": [
      "('a', 'b', 'c')\n",
      "(1, 2, 3)\n"
     ]
    }
   ],
   "source": [
    "pairs = [('a', 1), ('b', 2), ('c', 3)] \n",
    "letters, numbers = zip(*pairs)\n",
    "print (letters)\n",
    "print (numbers)"
   ]
  }
 ],
 "metadata": {
  "kernelspec": {
   "display_name": "Python 3",
   "language": "python",
   "name": "python3"
  },
  "language_info": {
   "codemirror_mode": {
    "name": "ipython",
    "version": 3
   },
   "file_extension": ".py",
   "mimetype": "text/x-python",
   "name": "python",
   "nbconvert_exporter": "python",
   "pygments_lexer": "ipython3",
   "version": "3.7.4"
  }
 },
 "nbformat": 4,
 "nbformat_minor": 2
}
