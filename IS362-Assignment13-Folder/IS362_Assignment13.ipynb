{
 "cells": [
  {
   "cell_type": "markdown",
   "metadata": {},
   "source": [
    "# Assignment – Preprocessing Data for scikit-learn\n",
    " Very often, we’re tasked with taking data in one form and transforming it for easier downstream analysis. In this assignment, you’ll use what you’ve learned in the course to prepare data for predictive analysis in Project 4.\n",
    " \n",
    "## Mushrooms Dataset.\n",
    "A famous—if slightly moldy—dataset about mushrooms can be found in the UCI repository here: https://archive.ics.uci.edu/ml/datasets/Mushroom. The fact that this is such a well-known dataset in the data science community has made it a good dataset to use for comparative benchmarking. For example, if someone was working to build a better decision tree algorithm (or other predictive classifier) to analyze categorical data, this dataset could be useful. In Project 4, we’ll use scikit-learn to answer the question, “Which other attribute or attributes are the best predictors of whether a particular mushroom is poisonous or edible?”\n",
    "\n",
    "### Your assignment is to:\n",
    "- First study the dataset and the associated description of the data (i.e. “data dictionary”). You may need to look around a bit, but it’s there!\n",
    "- Create a `pandas DataFrame` with a subset of the columns in the dataset. You should include the column that indicates edible or poisonous, the column that includes odor, and at least one other column of your choosing.\n",
    "- Add meaningful names for each column.\n",
    "- Replace the codes used in the data with numeric values—for example, in the first “target” column, “e” might become 0 and “p” might become 1. This is because your downstream processing in Project 4 using `scikit-learn` requires that values be stored as numerics.\n",
    "- Perform exploratory data analysis: show the distribution of data for each of the columns you selected, and show scatterplots for edible/poisonous vs. odor as well as the other column that you selected.\n",
    "- Include some text describing your preliminary conclusions about whether either of the other columns could be helpful in predicting if a specific mushroom is edible or poisonous.\n",
    "\n",
    "\n",
    "Your deliverable is a Jupyter Notebook that performs these transformation and exploratory data analysis tasks.\n"
   ]
  },
  {
   "cell_type": "markdown",
   "metadata": {},
   "source": [
    "*** \n",
    "### First we must import the libraries we will need"
   ]
  },
  {
   "cell_type": "code",
   "execution_count": 1,
   "metadata": {},
   "outputs": [],
   "source": [
    "import pandas as pd\n",
    "from matplotlib import pyplot as plt\n",
    "import seaborn as sns\n",
    "%matplotlib inline"
   ]
  },
  {
   "cell_type": "markdown",
   "metadata": {},
   "source": [
    "***\n",
    "## First study the dataset and the associated description of the data (i.e. “data dictionary”). You may need to look around a bit, but it’s there!\n",
    "\n",
    "I was able to find the \"data dictonary\" under the `agaricus-lepiota.names` file"
   ]
  },
  {
   "cell_type": "code",
   "execution_count": 2,
   "metadata": {},
   "outputs": [
    {
     "name": "stdout",
     "output_type": "stream",
     "text": [
      "1. Title: Mushroom Database\n",
      "\n",
      "2. Sources: \n",
      "    (a) Mushroom records drawn from The Audubon Society Field Guide to North\n",
      "        American Mushrooms (1981). G. H. Lincoff (Pres.), New York: Alfred\n",
      "        A. Knopf\n",
      "    (b) Donor: Jeff Schlimmer (Jeffrey.Schlimmer@a.gp.cs.cmu.edu)\n",
      "    (c) Date: 27 April 1987\n",
      "\n",
      "3. Past Usage:\n",
      "    1. Schlimmer,J.S. (1987). Concept Acquisition Through Representational\n",
      "       Adjustment (Technical Report 87-19).  Doctoral disseration, Department\n",
      "       of Information and Computer Science, University of California, Irvine.\n",
      "       --- STAGGER: asymptoted to 95% classification accuracy after reviewing\n",
      "           1000 instances.\n",
      "    2. Iba,W., Wogulis,J., & Langley,P. (1988).  Trading off Simplicity\n",
      "       and Coverage in Incremental Concept Learning. In Proceedings of \n",
      "       the 5th International Conference on Machine Learning, 73-79.\n",
      "       Ann Arbor, Michigan: Morgan Kaufmann.  \n",
      "       -- approximately the same results with their HILLARY algorithm    \n",
      "    3. In the following references a set of rules (given below) were\n",
      "\tlearned for this data set which may serve as a point of\n",
      "\tcomparison for other researchers.\n",
      "\n",
      "\tDuch W, Adamczak R, Grabczewski K (1996) Extraction of logical rules\n",
      "\tfrom training data using backpropagation networks, in: Proc. of the\n",
      "\tThe 1st Online Workshop on Soft Computing, 19-30.Aug.1996, pp. 25-30,\n",
      "\tavailable on-line at: http://www.bioele.nuee.nagoya-u.ac.jp/wsc1/\n",
      "\n",
      "\tDuch W, Adamczak R, Grabczewski K, Ishikawa M, Ueda H, Extraction of\n",
      "\tcrisp logical rules using constrained backpropagation networks -\n",
      "\tcomparison of two new approaches, in: Proc. of the European Symposium\n",
      "\ton Artificial Neural Networks (ESANN'97), Bruge, Belgium 16-18.4.1997,\n",
      "\tpp. xx-xx\n",
      "\n",
      "\tWlodzislaw Duch, Department of Computer Methods, Nicholas Copernicus\n",
      "\tUniversity, 87-100 Torun, Grudziadzka 5, Poland\n",
      "\te-mail: duch@phys.uni.torun.pl\n",
      "\tWWW     http://www.phys.uni.torun.pl/kmk/\n",
      "\t\n",
      "\tDate: Mon, 17 Feb 1997 13:47:40 +0100\n",
      "\tFrom: Wlodzislaw Duch <duch@phys.uni.torun.pl>\n",
      "\tOrganization: Dept. of Computer Methods, UMK\n",
      "\n",
      "\tI have attached a file containing logical rules for mushrooms.\n",
      "\tIt should be helpful for other people since only in the last year I\n",
      "\thave seen about 10 papers analyzing this dataset and obtaining quite\n",
      "\tcomplex rules. We will try to contribute other results later.\n",
      "\n",
      "\tWith best regards, Wlodek Duch\n",
      "\t________________________________________________________________\n",
      "\n",
      "\tLogical rules for the mushroom data sets.\n",
      "\n",
      "\tLogical rules given below seem to be the simplest possible for the\n",
      "\tmushroom dataset and therefore should be treated as benchmark results.\n",
      "\n",
      "\tDisjunctive rules for poisonous mushrooms, from most general\n",
      "\tto most specific:\n",
      "\n",
      "\tP_1) odor=NOT(almond.OR.anise.OR.none)\n",
      "\t     120 poisonous cases missed, 98.52% accuracy\n",
      "\n",
      "\tP_2) spore-print-color=green\n",
      "\t     48 cases missed, 99.41% accuracy\n",
      "         \n",
      "\tP_3) odor=none.AND.stalk-surface-below-ring=scaly.AND.\n",
      "\t          (stalk-color-above-ring=NOT.brown) \n",
      "\t     8 cases missed, 99.90% accuracy\n",
      "         \n",
      "\tP_4) habitat=leaves.AND.cap-color=white\n",
      "\t         100% accuracy     \n",
      "\n",
      "\tRule P_4) may also be\n",
      "\n",
      "\tP_4') population=clustered.AND.cap_color=white\n",
      "\n",
      "\tThese rule involve 6 attributes (out of 22). Rules for edible\n",
      "\tmushrooms are obtained as negation of the rules given above, for\n",
      "\texample the rule:\n",
      "\n",
      "\todor=(almond.OR.anise.OR.none).AND.spore-print-color=NOT.green\n",
      "\n",
      "\tgives 48 errors, or 99.41% accuracy on the whole dataset.\n",
      "\n",
      "\tSeveral slightly more complex variations on these rules exist,\n",
      "\tinvolving other attributes, such as gill_size, gill_spacing,\n",
      "\tstalk_surface_above_ring, but the rules given above are the simplest\n",
      "\twe have found.\n",
      "\n",
      "\n",
      "4. Relevant Information:\n",
      "    This data set includes descriptions of hypothetical samples\n",
      "    corresponding to 23 species of gilled mushrooms in the Agaricus and\n",
      "    Lepiota Family (pp. 500-525).  Each species is identified as\n",
      "    definitely edible, definitely poisonous, or of unknown edibility and\n",
      "    not recommended.  This latter class was combined with the poisonous\n",
      "    one.  The Guide clearly states that there is no simple rule for\n",
      "    determining the edibility of a mushroom; no rule like ``leaflets\n",
      "    three, let it be'' for Poisonous Oak and Ivy.\n",
      "\n",
      "5. Number of Instances: 8124\n",
      "\n",
      "6. Number of Attributes: 22 (all nominally valued)\n",
      "\n",
      "7. Attribute Information: (classes: edible=e, poisonous=p)\n",
      "     1. cap-shape:                bell=b,conical=c,convex=x,flat=f,\n",
      "                                  knobbed=k,sunken=s\n",
      "     2. cap-surface:              fibrous=f,grooves=g,scaly=y,smooth=s\n",
      "     3. cap-color:                brown=n,buff=b,cinnamon=c,gray=g,green=r,\n",
      "                                  pink=p,purple=u,red=e,white=w,yellow=y\n",
      "     4. bruises?:                 bruises=t,no=f\n",
      "     5. odor:                     almond=a,anise=l,creosote=c,fishy=y,foul=f,\n",
      "                                  musty=m,none=n,pungent=p,spicy=s\n",
      "     6. gill-attachment:          attached=a,descending=d,free=f,notched=n\n",
      "     7. gill-spacing:             close=c,crowded=w,distant=d\n",
      "     8. gill-size:                broad=b,narrow=n\n",
      "     9. gill-color:               black=k,brown=n,buff=b,chocolate=h,gray=g,\n",
      "                                  green=r,orange=o,pink=p,purple=u,red=e,\n",
      "                                  white=w,yellow=y\n",
      "    10. stalk-shape:              enlarging=e,tapering=t\n",
      "    11. stalk-root:               bulbous=b,club=c,cup=u,equal=e,\n",
      "                                  rhizomorphs=z,rooted=r,missing=?\n",
      "    12. stalk-surface-above-ring: fibrous=f,scaly=y,silky=k,smooth=s\n",
      "    13. stalk-surface-below-ring: fibrous=f,scaly=y,silky=k,smooth=s\n",
      "    14. stalk-color-above-ring:   brown=n,buff=b,cinnamon=c,gray=g,orange=o,\n",
      "                                  pink=p,red=e,white=w,yellow=y\n",
      "    15. stalk-color-below-ring:   brown=n,buff=b,cinnamon=c,gray=g,orange=o,\n",
      "                                  pink=p,red=e,white=w,yellow=y\n",
      "    16. veil-type:                partial=p,universal=u\n",
      "    17. veil-color:               brown=n,orange=o,white=w,yellow=y\n",
      "    18. ring-number:              none=n,one=o,two=t\n",
      "    19. ring-type:                cobwebby=c,evanescent=e,flaring=f,large=l,\n",
      "                                  none=n,pendant=p,sheathing=s,zone=z\n",
      "    20. spore-print-color:        black=k,brown=n,buff=b,chocolate=h,green=r,\n",
      "                                  orange=o,purple=u,white=w,yellow=y\n",
      "    21. population:               abundant=a,clustered=c,numerous=n,\n",
      "                                  scattered=s,several=v,solitary=y\n",
      "    22. habitat:                  grasses=g,leaves=l,meadows=m,paths=p,\n",
      "                                  urban=u,waste=w,woods=d\n",
      "\n",
      "8. Missing Attribute Values: 2480 of them (denoted by \"?\"), all for\n",
      "   attribute #11.\n",
      "\n",
      "9. Class Distribution: \n",
      "    --    edible: 4208 (51.8%)\n",
      "    -- poisonous: 3916 (48.2%)\n",
      "    --     total: 8124 instances\n",
      "\n"
     ]
    }
   ],
   "source": [
    "data_dictonary = open('agaricus-lepiota.names', 'r')\n",
    "print (data_dictonary.read())"
   ]
  },
  {
   "cell_type": "markdown",
   "metadata": {},
   "source": [
    "***\n",
    "## Create a `pandas DataFrame` with a subset of the columns in the dataset. You should include the column that indicates edible or poisonous, the column that includes odor, and at least one other column of your choosing.\n",
    "\n",
    "Now we will create our dataframe  with our prefered rows."
   ]
  },
  {
   "cell_type": "code",
   "execution_count": 3,
   "metadata": {},
   "outputs": [
    {
     "data": {
      "text/html": [
       "<div>\n",
       "<style scoped>\n",
       "    .dataframe tbody tr th:only-of-type {\n",
       "        vertical-align: middle;\n",
       "    }\n",
       "\n",
       "    .dataframe tbody tr th {\n",
       "        vertical-align: top;\n",
       "    }\n",
       "\n",
       "    .dataframe thead th {\n",
       "        text-align: right;\n",
       "    }\n",
       "</style>\n",
       "<table border=\"1\" class=\"dataframe\">\n",
       "  <thead>\n",
       "    <tr style=\"text-align: right;\">\n",
       "      <th></th>\n",
       "      <th>0</th>\n",
       "      <th>3</th>\n",
       "      <th>5</th>\n",
       "    </tr>\n",
       "  </thead>\n",
       "  <tbody>\n",
       "    <tr>\n",
       "      <th>0</th>\n",
       "      <td>p</td>\n",
       "      <td>n</td>\n",
       "      <td>p</td>\n",
       "    </tr>\n",
       "    <tr>\n",
       "      <th>1</th>\n",
       "      <td>e</td>\n",
       "      <td>y</td>\n",
       "      <td>a</td>\n",
       "    </tr>\n",
       "    <tr>\n",
       "      <th>2</th>\n",
       "      <td>e</td>\n",
       "      <td>w</td>\n",
       "      <td>l</td>\n",
       "    </tr>\n",
       "    <tr>\n",
       "      <th>3</th>\n",
       "      <td>p</td>\n",
       "      <td>w</td>\n",
       "      <td>p</td>\n",
       "    </tr>\n",
       "    <tr>\n",
       "      <th>4</th>\n",
       "      <td>e</td>\n",
       "      <td>g</td>\n",
       "      <td>n</td>\n",
       "    </tr>\n",
       "    <tr>\n",
       "      <th>5</th>\n",
       "      <td>e</td>\n",
       "      <td>y</td>\n",
       "      <td>a</td>\n",
       "    </tr>\n",
       "    <tr>\n",
       "      <th>6</th>\n",
       "      <td>e</td>\n",
       "      <td>w</td>\n",
       "      <td>a</td>\n",
       "    </tr>\n",
       "    <tr>\n",
       "      <th>7</th>\n",
       "      <td>e</td>\n",
       "      <td>w</td>\n",
       "      <td>l</td>\n",
       "    </tr>\n",
       "    <tr>\n",
       "      <th>8</th>\n",
       "      <td>p</td>\n",
       "      <td>w</td>\n",
       "      <td>p</td>\n",
       "    </tr>\n",
       "    <tr>\n",
       "      <th>9</th>\n",
       "      <td>e</td>\n",
       "      <td>y</td>\n",
       "      <td>a</td>\n",
       "    </tr>\n",
       "    <tr>\n",
       "      <th>10</th>\n",
       "      <td>e</td>\n",
       "      <td>y</td>\n",
       "      <td>l</td>\n",
       "    </tr>\n",
       "  </tbody>\n",
       "</table>\n",
       "</div>"
      ],
      "text/plain": [
       "    0  3  5\n",
       "0   p  n  p\n",
       "1   e  y  a\n",
       "2   e  w  l\n",
       "3   p  w  p\n",
       "4   e  g  n\n",
       "5   e  y  a\n",
       "6   e  w  a\n",
       "7   e  w  l\n",
       "8   p  w  p\n",
       "9   e  y  a\n",
       "10  e  y  l"
      ]
     },
     "execution_count": 3,
     "metadata": {},
     "output_type": "execute_result"
    }
   ],
   "source": [
    "import_file = 'agaricus-lepiota.data'\n",
    "mushroom_dataset = pd.read_csv(import_file, header=None, usecols=[0, 3, 5])\n",
    "mushroom_dataset.head(11)"
   ]
  },
  {
   "cell_type": "markdown",
   "metadata": {},
   "source": [
    "***\n",
    "## Add meaningful names for each column."
   ]
  },
  {
   "cell_type": "code",
   "execution_count": 4,
   "metadata": {},
   "outputs": [
    {
     "data": {
      "text/html": [
       "<div>\n",
       "<style scoped>\n",
       "    .dataframe tbody tr th:only-of-type {\n",
       "        vertical-align: middle;\n",
       "    }\n",
       "\n",
       "    .dataframe tbody tr th {\n",
       "        vertical-align: top;\n",
       "    }\n",
       "\n",
       "    .dataframe thead th {\n",
       "        text-align: right;\n",
       "    }\n",
       "</style>\n",
       "<table border=\"1\" class=\"dataframe\">\n",
       "  <thead>\n",
       "    <tr style=\"text-align: right;\">\n",
       "      <th></th>\n",
       "      <th>Edible/Poisonous</th>\n",
       "      <th>Cap-Color</th>\n",
       "      <th>Odor</th>\n",
       "    </tr>\n",
       "  </thead>\n",
       "  <tbody>\n",
       "    <tr>\n",
       "      <th>0</th>\n",
       "      <td>p</td>\n",
       "      <td>n</td>\n",
       "      <td>p</td>\n",
       "    </tr>\n",
       "    <tr>\n",
       "      <th>1</th>\n",
       "      <td>e</td>\n",
       "      <td>y</td>\n",
       "      <td>a</td>\n",
       "    </tr>\n",
       "    <tr>\n",
       "      <th>2</th>\n",
       "      <td>e</td>\n",
       "      <td>w</td>\n",
       "      <td>l</td>\n",
       "    </tr>\n",
       "    <tr>\n",
       "      <th>3</th>\n",
       "      <td>p</td>\n",
       "      <td>w</td>\n",
       "      <td>p</td>\n",
       "    </tr>\n",
       "    <tr>\n",
       "      <th>4</th>\n",
       "      <td>e</td>\n",
       "      <td>g</td>\n",
       "      <td>n</td>\n",
       "    </tr>\n",
       "    <tr>\n",
       "      <th>5</th>\n",
       "      <td>e</td>\n",
       "      <td>y</td>\n",
       "      <td>a</td>\n",
       "    </tr>\n",
       "    <tr>\n",
       "      <th>6</th>\n",
       "      <td>e</td>\n",
       "      <td>w</td>\n",
       "      <td>a</td>\n",
       "    </tr>\n",
       "    <tr>\n",
       "      <th>7</th>\n",
       "      <td>e</td>\n",
       "      <td>w</td>\n",
       "      <td>l</td>\n",
       "    </tr>\n",
       "    <tr>\n",
       "      <th>8</th>\n",
       "      <td>p</td>\n",
       "      <td>w</td>\n",
       "      <td>p</td>\n",
       "    </tr>\n",
       "    <tr>\n",
       "      <th>9</th>\n",
       "      <td>e</td>\n",
       "      <td>y</td>\n",
       "      <td>a</td>\n",
       "    </tr>\n",
       "    <tr>\n",
       "      <th>10</th>\n",
       "      <td>e</td>\n",
       "      <td>y</td>\n",
       "      <td>l</td>\n",
       "    </tr>\n",
       "  </tbody>\n",
       "</table>\n",
       "</div>"
      ],
      "text/plain": [
       "   Edible/Poisonous Cap-Color Odor\n",
       "0                 p         n    p\n",
       "1                 e         y    a\n",
       "2                 e         w    l\n",
       "3                 p         w    p\n",
       "4                 e         g    n\n",
       "5                 e         y    a\n",
       "6                 e         w    a\n",
       "7                 e         w    l\n",
       "8                 p         w    p\n",
       "9                 e         y    a\n",
       "10                e         y    l"
      ]
     },
     "execution_count": 4,
     "metadata": {},
     "output_type": "execute_result"
    }
   ],
   "source": [
    "column_names = ['Edible/Poisonous', 'Cap-Color', 'Odor']\n",
    "mushroom_dataset.columns = column_names\n",
    "mushroom_dataset.head(11)"
   ]
  },
  {
   "cell_type": "markdown",
   "metadata": {},
   "source": [
    "***\n",
    "## Replace the codes used in the data with numeric values—for example, in the first “target” column, “e” might become 0 and “p” might become 1. This is because your downstream processing in Project 4 using `scikit-learn` requires that values be stored as numerics."
   ]
  },
  {
   "cell_type": "code",
   "execution_count": 5,
   "metadata": {},
   "outputs": [
    {
     "data": {
      "text/html": [
       "<div>\n",
       "<style scoped>\n",
       "    .dataframe tbody tr th:only-of-type {\n",
       "        vertical-align: middle;\n",
       "    }\n",
       "\n",
       "    .dataframe tbody tr th {\n",
       "        vertical-align: top;\n",
       "    }\n",
       "\n",
       "    .dataframe thead th {\n",
       "        text-align: right;\n",
       "    }\n",
       "</style>\n",
       "<table border=\"1\" class=\"dataframe\">\n",
       "  <thead>\n",
       "    <tr style=\"text-align: right;\">\n",
       "      <th></th>\n",
       "      <th>Edible/Poisonous</th>\n",
       "      <th>Cap-Color</th>\n",
       "      <th>Odor</th>\n",
       "    </tr>\n",
       "  </thead>\n",
       "  <tbody>\n",
       "    <tr>\n",
       "      <th>0</th>\n",
       "      <td>1</td>\n",
       "      <td>0</td>\n",
       "      <td>7</td>\n",
       "    </tr>\n",
       "    <tr>\n",
       "      <th>1</th>\n",
       "      <td>0</td>\n",
       "      <td>9</td>\n",
       "      <td>0</td>\n",
       "    </tr>\n",
       "    <tr>\n",
       "      <th>2</th>\n",
       "      <td>0</td>\n",
       "      <td>8</td>\n",
       "      <td>1</td>\n",
       "    </tr>\n",
       "    <tr>\n",
       "      <th>3</th>\n",
       "      <td>1</td>\n",
       "      <td>8</td>\n",
       "      <td>7</td>\n",
       "    </tr>\n",
       "    <tr>\n",
       "      <th>4</th>\n",
       "      <td>0</td>\n",
       "      <td>3</td>\n",
       "      <td>6</td>\n",
       "    </tr>\n",
       "    <tr>\n",
       "      <th>5</th>\n",
       "      <td>0</td>\n",
       "      <td>9</td>\n",
       "      <td>0</td>\n",
       "    </tr>\n",
       "    <tr>\n",
       "      <th>6</th>\n",
       "      <td>0</td>\n",
       "      <td>8</td>\n",
       "      <td>0</td>\n",
       "    </tr>\n",
       "    <tr>\n",
       "      <th>7</th>\n",
       "      <td>0</td>\n",
       "      <td>8</td>\n",
       "      <td>1</td>\n",
       "    </tr>\n",
       "    <tr>\n",
       "      <th>8</th>\n",
       "      <td>1</td>\n",
       "      <td>8</td>\n",
       "      <td>7</td>\n",
       "    </tr>\n",
       "    <tr>\n",
       "      <th>9</th>\n",
       "      <td>0</td>\n",
       "      <td>9</td>\n",
       "      <td>0</td>\n",
       "    </tr>\n",
       "    <tr>\n",
       "      <th>10</th>\n",
       "      <td>0</td>\n",
       "      <td>9</td>\n",
       "      <td>1</td>\n",
       "    </tr>\n",
       "  </tbody>\n",
       "</table>\n",
       "</div>"
      ],
      "text/plain": [
       "    Edible/Poisonous  Cap-Color  Odor\n",
       "0                  1          0     7\n",
       "1                  0          9     0\n",
       "2                  0          8     1\n",
       "3                  1          8     7\n",
       "4                  0          3     6\n",
       "5                  0          9     0\n",
       "6                  0          8     0\n",
       "7                  0          8     1\n",
       "8                  1          8     7\n",
       "9                  0          9     0\n",
       "10                 0          9     1"
      ]
     },
     "execution_count": 5,
     "metadata": {},
     "output_type": "execute_result"
    }
   ],
   "source": [
    "replace_with_num_values = mushroom_dataset.replace({'Edible/Poisonous':{'e':0,\n",
    "                                                                        'p':1},\n",
    "                                                    'Cap-Color':{'n':0,\n",
    "                                                                 'b':1,\n",
    "                                                                 'c':2,\n",
    "                                                                 'g':3,\n",
    "                                                                 'r':4,\n",
    "                                                                 'p':5,\n",
    "                                                                 'u':6,\n",
    "                                                                 'e':7,\n",
    "                                                                 'w':8,\n",
    "                                                                 'y':9},\n",
    "                                                    'Odor':{'a': 0,\n",
    "                                                            'l': 1,\n",
    "                                                            'c': 2,\n",
    "                                                            'y': 3,\n",
    "                                                            'f': 4,\n",
    "                                                            'm': 5,\n",
    "                                                            'n': 6,\n",
    "                                                            'p': 7,\n",
    "                                                            's': 8}})\n",
    "replace_with_num_values.head(11)"
   ]
  },
  {
   "cell_type": "markdown",
   "metadata": {},
   "source": [
    "***\n",
    "## Perform exploratory data analysis: show the distribution of data for each of the columns you selected, and show scatterplots for edible/poisonous vs. odor as well as the other column that you selected.\n",
    "\n",
    "Below we will create 3 bar garphs for each column, displaying the counts of each value."
   ]
  },
  {
   "cell_type": "code",
   "execution_count": 6,
   "metadata": {},
   "outputs": [
    {
     "data": {
      "text/plain": [
       "0    4208\n",
       "1    3916\n",
       "Name: Edible/Poisonous, dtype: int64"
      ]
     },
     "execution_count": 6,
     "metadata": {},
     "output_type": "execute_result"
    }
   ],
   "source": [
    "edible_or_poisonous_graph = replace_with_num_values['Edible/Poisonous'].value_counts()\n",
    "edible_or_poisonous_graph\n"
   ]
  },
  {
   "cell_type": "code",
   "execution_count": 7,
   "metadata": {},
   "outputs": [
    {
     "data": {
      "image/png": "[encoded data removed]",
      "text/plain": [
       "<Figure size 432x288 with 1 Axes>"
      ]
     },
     "metadata": {
      "needs_background": "light"
     },
     "output_type": "display_data"
    }
   ],
   "source": [
    "edible_or_poisonous_graph.plot(kind='bar')\n",
    "names = ['Edible', 'Poisonous']\n",
    "values = [0,1]\n",
    "\n",
    "plt.title('Edible Vs. Poisonous')\n",
    "plt.xlabel('Mushroom Type')\n",
    "plt.ylabel('Counts')\n",
    "plt.xticks([i for i, _ in enumerate(names)], names)\n",
    "plt.show()"
   ]
  },
  {
   "cell_type": "code",
   "execution_count": 8,
   "metadata": {},
   "outputs": [
    {
     "data": {
      "text/plain": [
       "0    2284\n",
       "3    1840\n",
       "7    1500\n",
       "9    1072\n",
       "8    1040\n",
       "1     168\n",
       "5     144\n",
       "2      44\n",
       "6      16\n",
       "4      16\n",
       "Name: Cap-Color, dtype: int64"
      ]
     },
     "execution_count": 8,
     "metadata": {},
     "output_type": "execute_result"
    }
   ],
   "source": [
    "cap_color_graph = replace_with_num_values['Cap-Color'].value_counts()\n",
    "cap_color_graph"
   ]
  },
  {
   "cell_type": "code",
   "execution_count": 9,
   "metadata": {},
   "outputs": [
    {
     "data": {
      "image/png": "[encoded data removed]",
      "text/plain": [
       "<Figure size 432x288 with 1 Axes>"
      ]
     },
     "metadata": {
      "needs_background": "light"
     },
     "output_type": "display_data"
    }
   ],
   "source": [
    "#3. cap-color: brown=n,buff=b,cinnamon=c,gray=g,green=r,pink=p,purple=u,red=e,white=w,yellow=y\n",
    "#'Cap-Color':{'n':0,'b':1,'c':2,'g':3,'r':4,'p':5,'u':6,'e':7,'w':8,'y':9}\n",
    "cap_color_graph.plot(kind='bar')\n",
    "cap_colors = ['Brown', 'Gray', 'Red','Yellow','White', 'Buff', 'Pink', 'Cinnamon', 'Purple', 'Green']\n",
    "values = [0,1,2,3,4,5,6,7,8,9]\n",
    "\n",
    "plt.title('Mushrom Cap Color Count')\n",
    "plt.xlabel('Cap Color')\n",
    "plt.ylabel('Counts')\n",
    "plt.xticks([i for i, _ in enumerate(cap_colors)], cap_colors)\n",
    "plt.show()"
   ]
  },
  {
   "cell_type": "code",
   "execution_count": 10,
   "metadata": {},
   "outputs": [
    {
     "data": {
      "text/plain": [
       "6    3528\n",
       "4    2160\n",
       "3     576\n",
       "8     576\n",
       "1     400\n",
       "0     400\n",
       "7     256\n",
       "2     192\n",
       "5      36\n",
       "Name: Odor, dtype: int64"
      ]
     },
     "execution_count": 10,
     "metadata": {},
     "output_type": "execute_result"
    }
   ],
   "source": [
    "odor_graph = replace_with_num_values['Odor'].value_counts()\n",
    "odor_graph"
   ]
  },
  {
   "cell_type": "code",
   "execution_count": 11,
   "metadata": {},
   "outputs": [
    {
     "data": {
      "image/png": "[encoded data removed]",
      "text/plain": [
       "<Figure size 432x288 with 1 Axes>"
      ]
     },
     "metadata": {
      "needs_background": "light"
     },
     "output_type": "display_data"
    }
   ],
   "source": [
    "#5. odor: almond=a,anise=l,creosote=c,fishy=y,foul=f,musty=m,none=n,pungent=p,spicy=s\n",
    "#'Odor':{'a': 0,'l': 1,'c': 2,'y': 3,'f': 4,'m': 5,'n': 6,'p': 7,'s': 8}\n",
    "odor_graph.plot(kind='bar')\n",
    "odors = ['None', 'Foul', 'Fishy', 'Spicy', 'Anise', 'Almond', 'Pungent', 'Creosote', 'Musty']\n",
    "values = [0,1,2,3,4,5,6,7,8]\n",
    "\n",
    "plt.title('Mushrom Odor Count')\n",
    "plt.xlabel('Odors')\n",
    "plt.ylabel('Counts')\n",
    "plt.xticks([i for i, _ in enumerate(odors)], odors)\n",
    "plt.show()"
   ]
  },
  {
   "cell_type": "markdown",
   "metadata": {},
   "source": [
    "### Below we show a scatterplot for Edible/Poisonous vs. Odor vs. Cap-Color."
   ]
  },
  {
   "cell_type": "code",
   "execution_count": 13,
   "metadata": {},
   "outputs": [
    {
     "data": {
      "image/png": "[encoded data removed]",
      "text/plain": [
       "<Figure size 909.975x720 with 1 Axes>"
      ]
     },
     "metadata": {
      "needs_background": "light"
     },
     "output_type": "display_data"
    }
   ],
   "source": [
    "sns.set_context(\"poster\")\n",
    "Analysis = sns.lmplot(hue='Edible/Poisonous', x='Cap-Color', y='Odor', data=replace_with_num_values, markers=[\"o\", \"x\"], palette=\"Set1\", height=10)\n",
    "Analysis.set_axis_labels('Cap-Color', 'Odor')\n",
    "plt.show()"
   ]
  },
  {
   "cell_type": "markdown",
   "metadata": {},
   "source": [
    "***\n",
    "## Include some text describing your preliminary conclusions about whether either of the other columns could be helpful in predicting if a specific mushroom is edible or poisonous."
   ]
  },
  {
   "cell_type": "markdown",
   "metadata": {},
   "source": [
    "It dose not look as if cap color would help in being able to tell if a mushroom is posinous or not. However, Oder is very helpful in distinguising if a mushroom is posinous or not. Unless it is an oderless muchroom as seen on Oder axis line 6 (6= None). As this line contains both posinous and non posinous mushrooms and in some cases the same cap color contain both posinous and non posinous mushrooms of the same color (Oderless mushrooms containing both posinous and edible mushrooms are cap-colors 0=Brown, 1=Buff, 5=Pink, 8=White)."
   ]
  }
 ],
 "metadata": {
  "kernelspec": {
   "display_name": "Python 2",
   "language": "python",
   "name": "python2"
  },
  "language_info": {
   "codemirror_mode": {
    "name": "ipython",
    "version": 2
   },
   "file_extension": ".py",
   "mimetype": "text/x-python",
   "name": "python",
   "nbconvert_exporter": "python",
   "pygments_lexer": "ipython2",
   "version": "2.7.15"
  }
 },
 "nbformat": 4,
 "nbformat_minor": 2
}
